{
 "cells": [
  {
   "cell_type": "code",
   "execution_count": 4,
   "id": "b9794ef7-d590-4f2a-a9db-fcc2ff52ee01",
   "metadata": {},
   "outputs": [
    {
     "name": "stderr",
     "output_type": "stream",
     "text": [
      "<string>:41: SyntaxWarning: invalid escape sequence '\\{'\n",
      "<string>:46: SyntaxWarning: invalid escape sequence '\\{'\n",
      "<>:41: SyntaxWarning: invalid escape sequence '\\{'\n",
      "<>:46: SyntaxWarning: invalid escape sequence '\\{'\n",
      "<string>:41: SyntaxWarning: invalid escape sequence '\\{'\n",
      "<string>:46: SyntaxWarning: invalid escape sequence '\\{'\n",
      "<>:41: SyntaxWarning: invalid escape sequence '\\{'\n",
      "<>:46: SyntaxWarning: invalid escape sequence '\\{'\n",
      "C:\\Users\\Cao Lam\\AppData\\Local\\Temp\\ipykernel_14612\\675451913.py:41: SyntaxWarning: invalid escape sequence '\\{'\n",
      "  file_path = f\"{path}\\{file}\"\n",
      "C:\\Users\\Cao Lam\\AppData\\Local\\Temp\\ipykernel_14612\\675451913.py:46: SyntaxWarning: invalid escape sequence '\\{'\n",
      "  file_path = f\"{path}\\{file}\"\n"
     ]
    }
   ],
   "source": [
    "import pandas as pd\n",
    "import os \n",
    "import re\n",
    "\n",
    "path = \"C:/Users/Cao Lam/spam_email\"\n",
    "  \n",
    "\n",
    "os.chdir(path) \n",
    "  \n",
    "# Read text File \n",
    "mail_subject_spam = []\n",
    "content_spam = []\n",
    "id_spam = []\n",
    "def read_spam_text_file(file_path):\n",
    "    id_mail = 1\n",
    "    with open(file_path, 'r', errors=\"ignore\") as f:\n",
    "        email = f.read()\n",
    "        pattern = re.compile(r'^Subject:.*(?:\\r\\n|\\r|\\n)?', re.MULTILINE)\n",
    "        email2 = re.sub(pattern, '', email)\n",
    "        subject = re.findall(\"^Subject:.*\",email)\n",
    "        mail_subject_spam.append(subject[0])\n",
    "        content_spam.append(email2)\n",
    "        id_spam.append(id_mail)\n",
    "        \n",
    "# Read text File \n",
    "mail_subject_nospam = []\n",
    "content_nospam = []\n",
    "id_nospam = []\n",
    "def read_nospam_text_file(file_path):\n",
    "    id_mail = 0\n",
    "    with open(file_path, 'r', errors=\"ignore\") as f:\n",
    "        email = f.read()\n",
    "        pattern = re.compile(r'^Subject:.*(?:\\r\\n|\\r|\\n)?', re.MULTILINE)\n",
    "        email2 = re.sub(pattern, '', email)\n",
    "        subject = re.findall(\"^Subject:.*\",email)\n",
    "        mail_subject_nospam.append(subject[0])\n",
    "        content_nospam.append(email2)\n",
    "        id_nospam.append(id_mail)\n",
    "  \n",
    "# iterate through all file \n",
    "for file in os.listdir(): \n",
    "    # Check whether file is in text format or not \n",
    "    if file.endswith(\".spam.txt\"): \n",
    "        file_path = f\"{path}\\{file}\"\n",
    "        # call read text file function \n",
    "        read_spam_text_file(file_path)\n",
    "    if file.endswith(\".ham.txt\"):\n",
    "    #else:\n",
    "        file_path = f\"{path}\\{file}\"\n",
    "        read_nospam_text_file(file_path)\n",
    "\n",
    "mail_subject = mail_subject_spam + mail_subject_nospam\n",
    "content = content_spam + content_nospam\n",
    "id = id_spam + id_nospam\n",
    "dict = {'Subject': mail_subject, 'Content': content, 'evaluation': id}\n",
    "df = pd.DataFrame(dict)\n",
    "df = df.drop_duplicates(subset=['Content'])\n",
    "df = df.sample(frac = 1)\n",
    "df.to_csv(\"spam_mail.csv\", encoding='utf-8', index=False)"
   ]
  }
 ],
 "metadata": {
  "kernelspec": {
   "display_name": "Python 3 (ipykernel)",
   "language": "python",
   "name": "python3"
  },
  "language_info": {
   "codemirror_mode": {
    "name": "ipython",
    "version": 3
   },
   "file_extension": ".py",
   "mimetype": "text/x-python",
   "name": "python",
   "nbconvert_exporter": "python",
   "pygments_lexer": "ipython3",
   "version": "3.12.0"
  }
 },
 "nbformat": 4,
 "nbformat_minor": 5
}
