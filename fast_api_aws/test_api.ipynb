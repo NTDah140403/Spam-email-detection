{
 "cells": [
  {
   "cell_type": "code",
   "execution_count": 22,
   "metadata": {},
   "outputs": [
    {
     "name": "stdout",
     "output_type": "stream",
     "text": [
      "{'prediction': 1, 'words': {'compani': 11581, 'inform': 7142, 'statement': 5874, 'us': 5180, 'make': 3681, 'need': 3472, 'year': 3155, 'like': 2904, 'custom': 2465, 'would': 2461}}\n"
     ]
    }
   ],
   "source": [
    "import requests\n",
    "from urllib.parse import quote\n",
    "text = \"Our art team creates a custom logo for you , based on your needs . years of experience have taught us how to create a logo that makes a statement that is unique to you in a profess ional manner we learn about your image and how you would like the world to perceive you and your company . with this information we then create a logo that is not only unique but reflects the purpose of you and your company for value and a logo that reflects your image ,\"\n",
    "\n",
    "\n",
    "api_url = f\"https://qyd7zx2oc42mltqnedi2h7uw4y0ckgsy.lambda-url.us-east-1.on.aws/detect_spam_email/{quote(text)}\"\n",
    "\n",
    "response = requests.get(api_url)\n",
    "print(response.json())"
   ]
  }
 ],
 "metadata": {
  "kernelspec": {
   "display_name": "stats",
   "language": "python",
   "name": "python3"
  },
  "language_info": {
   "codemirror_mode": {
    "name": "ipython",
    "version": 3
   },
   "file_extension": ".py",
   "mimetype": "text/x-python",
   "name": "python",
   "nbconvert_exporter": "python",
   "pygments_lexer": "ipython3",
   "version": "3.9.16"
  }
 },
 "nbformat": 4,
 "nbformat_minor": 2
}
