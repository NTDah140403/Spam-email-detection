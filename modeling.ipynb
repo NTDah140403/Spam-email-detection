{
 "cells": [
  {
   "cell_type": "markdown",
   "id": "7af5bb4a",
   "metadata": {},
   "source": [
    "### Data Processing"
   ]
  },
  {
   "cell_type": "code",
   "execution_count": 13,
   "id": "8669db26",
   "metadata": {},
   "outputs": [],
   "source": [
    "import re\n",
    "from bs4 import BeautifulSoup\n",
    "from nltk.corpus import stopwords\n",
    "from nltk.tokenize import word_tokenize\n",
    "import nltk\n",
    "import pandas as pd\n",
    "import os"
   ]
  },
  {
   "cell_type": "code",
   "execution_count": 7,
   "id": "5affd069",
   "metadata": {},
   "outputs": [],
   "source": [
    "def removeSubject(text):\n",
    "    text = text.replace(\"Subject:\", \"\")\n",
    "    return text\n",
    "\n",
    "def subContent(subject, content):\n",
    "    return subject + \" \" + content\n",
    "\n",
    "def clean_text(text):\n",
    "    text = re.sub(\"[^a-zA-Z]\", \" \", text)\n",
    "    words = word_tokenize(text.lower())\n",
    "    stop_words = set(stopwords.words(\"english\"))\n",
    "    words = [word for word in words if word not in stop_words]\n",
    "    cleaned_text = \" \".join(words)\n",
    "    return cleaned_text"
   ]
  },
  {
   "cell_type": "code",
   "execution_count": 8,
   "id": "f849a1ec",
   "metadata": {},
   "outputs": [],
   "source": [
    "df = pd.read_csv(\"spam_mail.csv\")"
   ]
  },
  {
   "cell_type": "code",
   "execution_count": 9,
   "id": "38cd4b0d",
   "metadata": {},
   "outputs": [
    {
     "data": {
      "text/html": [
       "<div>\n",
       "<style scoped>\n",
       "    .dataframe tbody tr th:only-of-type {\n",
       "        vertical-align: middle;\n",
       "    }\n",
       "\n",
       "    .dataframe tbody tr th {\n",
       "        vertical-align: top;\n",
       "    }\n",
       "\n",
       "    .dataframe thead th {\n",
       "        text-align: right;\n",
       "    }\n",
       "</style>\n",
       "<table border=\"1\" class=\"dataframe\">\n",
       "  <thead>\n",
       "    <tr style=\"text-align: right;\">\n",
       "      <th></th>\n",
       "      <th>evaluation</th>\n",
       "      <th>content</th>\n",
       "    </tr>\n",
       "  </thead>\n",
       "  <tbody>\n",
       "    <tr>\n",
       "      <th>0</th>\n",
       "      <td>1</td>\n",
       "      <td>buy prescripiton pills boulder rendition wing...</td>\n",
       "    </tr>\n",
       "    <tr>\n",
       "      <th>1</th>\n",
       "      <td>0</td>\n",
       "      <td>re : swift - october 2000 vols done\\ndaren j ...</td>\n",
       "    </tr>\n",
       "    <tr>\n",
       "      <th>2</th>\n",
       "      <td>0</td>\n",
       "      <td>eastrans nomination change effective 9 / 26 /...</td>\n",
       "    </tr>\n",
       "    <tr>\n",
       "      <th>3</th>\n",
       "      <td>0</td>\n",
       "      <td>weekend oncall notes friday 1 / 19 / 01 - rec...</td>\n",
       "    </tr>\n",
       "    <tr>\n",
       "      <th>4</th>\n",
       "      <td>0</td>\n",
       "      <td>re : hello hello vince ,\\nhow are you this we...</td>\n",
       "    </tr>\n",
       "    <tr>\n",
       "      <th>...</th>\n",
       "      <td>...</td>\n",
       "      <td>...</td>\n",
       "    </tr>\n",
       "    <tr>\n",
       "      <th>27144</th>\n",
       "      <td>1</td>\n",
       "      <td>shipping worldwide the best medication around...</td>\n",
       "    </tr>\n",
       "    <tr>\n",
       "      <th>27145</th>\n",
       "      <td>0</td>\n",
       "      <td>calpine daily gas nomination julie , we shoul...</td>\n",
       "    </tr>\n",
       "    <tr>\n",
       "      <th>27146</th>\n",
       "      <td>0</td>\n",
       "      <td>fw : untangle financial jargon good one for u...</td>\n",
       "    </tr>\n",
       "    <tr>\n",
       "      <th>27147</th>\n",
       "      <td>0</td>\n",
       "      <td>upcoming risk management policy changes attac...</td>\n",
       "    </tr>\n",
       "    <tr>\n",
       "      <th>27148</th>\n",
       "      <td>1</td>\n",
       "      <td>promote your website 100 % free ! duf lmdmz r...</td>\n",
       "    </tr>\n",
       "  </tbody>\n",
       "</table>\n",
       "<p>27149 rows × 2 columns</p>\n",
       "</div>"
      ],
      "text/plain": [
       "       evaluation                                            content\n",
       "0               1   buy prescripiton pills boulder rendition wing...\n",
       "1               0   re : swift - october 2000 vols done\\ndaren j ...\n",
       "2               0   eastrans nomination change effective 9 / 26 /...\n",
       "3               0   weekend oncall notes friday 1 / 19 / 01 - rec...\n",
       "4               0   re : hello hello vince ,\\nhow are you this we...\n",
       "...           ...                                                ...\n",
       "27144           1   shipping worldwide the best medication around...\n",
       "27145           0   calpine daily gas nomination julie , we shoul...\n",
       "27146           0   fw : untangle financial jargon good one for u...\n",
       "27147           0   upcoming risk management policy changes attac...\n",
       "27148           1   promote your website 100 % free ! duf lmdmz r...\n",
       "\n",
       "[27149 rows x 2 columns]"
      ]
     },
     "execution_count": 9,
     "metadata": {},
     "output_type": "execute_result"
    }
   ],
   "source": [
    "df[\"Subject\"] = df[\"Subject\"].apply(lambda x:removeSubject(x))\n",
    "df[\"content\"] = df[\"Subject\"] + \" \" + df[\"Content\"]\n",
    "df = df.drop(columns = [\"Subject\", \"Content\"])\n",
    "df"
   ]
  },
  {
   "cell_type": "code",
   "execution_count": 10,
   "id": "a8382da6",
   "metadata": {},
   "outputs": [],
   "source": [
    "df['content'] = df['content'].apply(lambda x:clean_text(str(x)))"
   ]
  },
  {
   "cell_type": "code",
   "execution_count": 11,
   "id": "c2457b8f",
   "metadata": {},
   "outputs": [],
   "source": [
    "import pandas as pd\n",
    "from sklearn.model_selection import train_test_split\n",
    "\n",
    "train_df, temp_df = train_test_split(df, test_size=0.3, random_state=42)\n",
    "valid_df, test_df = train_test_split(temp_df, test_size=0.5, random_state=42)"
   ]
  },
  {
   "cell_type": "code",
   "execution_count": 14,
   "id": "78506bed",
   "metadata": {},
   "outputs": [],
   "source": [
    "import shutil\n",
    "train_folder = 'train_data'\n",
    "valid_folder = 'valid_data'\n",
    "test_folder = 'test_data'\n",
    "os.makedirs(train_folder, exist_ok=True)\n",
    "os.makedirs(valid_folder, exist_ok=True)\n",
    "os.makedirs(test_folder, exist_ok=True)"
   ]
  },
  {
   "cell_type": "code",
   "execution_count": 15,
   "id": "f947a5eb",
   "metadata": {},
   "outputs": [],
   "source": [
    "train_df['content'].to_csv(os.path.join(train_folder, 'sentences.txt'), index=False, header = False)\n",
    "train_df['evaluation'].to_csv(os.path.join(train_folder, 'label.txt'), index=False, header = False)\n",
    "valid_df['content'].to_csv(os.path.join(valid_folder, 'sentences.txt'), index=False, header = False)\n",
    "valid_df['evaluation'].to_csv(os.path.join(valid_folder, 'label.txt'), index=False, header = False)\n",
    "test_df['content'].to_csv(os.path.join(test_folder, 'sentences.txt'), index=False, header = False)\n",
    "test_df['evaluation'].to_csv(os.path.join(test_folder, 'label.txt'), index=False, header = False)"
   ]
  },
  {
   "cell_type": "markdown",
   "id": "1855b55d",
   "metadata": {},
   "source": [
    "### Modeling"
   ]
  },
  {
   "cell_type": "code",
   "execution_count": 3,
   "id": "edc65a6e",
   "metadata": {},
   "outputs": [],
   "source": [
    "from sklearn.feature_extraction.text import CountVectorizer\n",
    "from sklearn.model_selection import train_test_split\n",
    "from sklearn.metrics import accuracy_score, precision_score, recall_score, f1_score, confusion_matrix\n",
    "from sklearn.model_selection import cross_val_score"
   ]
  },
  {
   "cell_type": "code",
   "execution_count": 2,
   "id": "f5c354ac",
   "metadata": {},
   "outputs": [],
   "source": [
    "def load_data(directory):\n",
    "    sentences_path = os.path.join(directory, 'sentences.txt')\n",
    "    labels_path = os.path.join(directory, 'label.txt')\n",
    "\n",
    "    with open(sentences_path, 'r', encoding='utf-8') as file:\n",
    "        sentences = file.readlines()\n",
    "\n",
    "    with open(labels_path, 'r', encoding='utf-8') as file:\n",
    "        labels = [int(line.strip()) for line in file]\n",
    "\n",
    "    return sentences, labels\n",
    "\n",
    "train_directory = 'train_data'\n",
    "train_sentences, train_labels = load_data(train_directory)\n",
    "test_directory = 'test_data'\n",
    "test_sentences, test_labels = load_data(test_directory)\n",
    "valid_directory = 'valid_data'\n",
    "valid_sentences, valid_labels = load_data(valid_directory)\n",
    "\n",
    "vectorizer = CountVectorizer()\n",
    "X_train_vec = vectorizer.fit_transform(train_sentences)\n",
    "X_test_vec = vectorizer.transform(test_sentences)\n",
    "X_valid_vec = vectorizer.transform(valid_sentences)"
   ]
  },
  {
   "cell_type": "markdown",
   "id": "53987fa2",
   "metadata": {},
   "source": [
    "### Random Forest"
   ]
  },
  {
   "cell_type": "code",
   "execution_count": 5,
   "id": "8ed0aa40",
   "metadata": {},
   "outputs": [
    {
     "name": "stdout",
     "output_type": "stream",
     "text": [
      "Test Accuracy: 0.9833046894181193\n",
      "Test F1 Score: 0.9838786154575629\n",
      "Test Confusion Matrix:\n",
      " [[1930   43]\n",
      " [  25 2075]]\n",
      "\n",
      "Validation Accuracy: 0.9833005893909627\n",
      "Validation F1 Score: 0.9843317972350231\n",
      "Validation Confusion Matrix:\n",
      " [[1868   38]\n",
      " [  30 2136]]\n",
      "\n",
      "Cross-Validation Accuracy: 0.9840031986042455\n",
      "Cross-Validation F1 Score: 0.9844171446106997\n"
     ]
    }
   ],
   "source": [
    "from sklearn.ensemble import RandomForestClassifier\n",
    "\n",
    "model = RandomForestClassifier(n_estimators=100, random_state=42) \n",
    "\n",
    "model.fit(X_train_vec, train_labels)\n",
    "\n",
    "y_test_pred = model.predict(X_test_vec)\n",
    "y_valid_pred = model.predict(X_valid_vec)\n",
    "\n",
    "test_accuracy = accuracy_score(test_labels, y_test_pred)\n",
    "valid_accuracy = accuracy_score(valid_labels, y_valid_pred)\n",
    "\n",
    "test_f1 = f1_score(test_labels, y_test_pred)\n",
    "valid_f1 = f1_score(valid_labels, y_valid_pred)\n",
    "\n",
    "test_conf_matrix = confusion_matrix(test_labels, y_test_pred)\n",
    "valid_conf_matrix = confusion_matrix(valid_labels, y_valid_pred)\n",
    "\n",
    "cv_accuracy = cross_val_score(model, X_train_vec, train_labels, cv=5, scoring='accuracy').mean()\n",
    "cv_f1 = cross_val_score(model, X_train_vec, train_labels, cv=5, scoring='f1').mean()\n",
    "\n",
    "print(\"Test Accuracy:\", test_accuracy)\n",
    "print(\"Test F1 Score:\", test_f1)\n",
    "print(\"Test Confusion Matrix:\\n\", test_conf_matrix)\n",
    "\n",
    "print(\"\\nValidation Accuracy:\", valid_accuracy)\n",
    "print(\"Validation F1 Score:\", valid_f1)\n",
    "print(\"Validation Confusion Matrix:\\n\", valid_conf_matrix)\n",
    "\n",
    "print(\"\\nCross-Validation Accuracy:\", cv_accuracy)\n",
    "print(\"Cross-Validation F1 Score:\", cv_f1)"
   ]
  },
  {
   "cell_type": "markdown",
   "id": "a9d08246",
   "metadata": {},
   "source": [
    "### Support Vector Machine"
   ]
  },
  {
   "cell_type": "code",
   "execution_count": 6,
   "id": "f32ce90e",
   "metadata": {},
   "outputs": [
    {
     "name": "stdout",
     "output_type": "stream",
     "text": [
      "Test Accuracy: 0.9808494966854898\n",
      "Test F1 Score: 0.9814462416745957\n",
      "Test Confusion Matrix:\n",
      " [[1932   41]\n",
      " [  37 2063]]\n",
      "\n",
      "Validation Accuracy: 0.9820726915520629\n",
      "Validation F1 Score: 0.9831603229527106\n",
      "Validation Confusion Matrix:\n",
      " [[1868   38]\n",
      " [  35 2131]]\n",
      "\n",
      "Cross-Validation Accuracy: 0.9799516193799416\n",
      "Cross-Validation F1 Score: 0.9804566353782812\n"
     ]
    }
   ],
   "source": [
    "from sklearn.svm import SVC\n",
    "\n",
    "model = SVC(kernel='linear')  \n",
    "\n",
    "model.fit(X_train_vec, train_labels)\n",
    "\n",
    "y_test_pred = model.predict(X_test_vec)\n",
    "y_valid_pred = model.predict(X_valid_vec)\n",
    "\n",
    "test_accuracy = accuracy_score(test_labels, y_test_pred)\n",
    "valid_accuracy = accuracy_score(valid_labels, y_valid_pred)\n",
    "\n",
    "test_f1 = f1_score(test_labels, y_test_pred)\n",
    "valid_f1 = f1_score(valid_labels, y_valid_pred)\n",
    "\n",
    "test_conf_matrix = confusion_matrix(test_labels, y_test_pred)\n",
    "valid_conf_matrix = confusion_matrix(valid_labels, y_valid_pred)\n",
    "\n",
    "cv_accuracy = cross_val_score(model, X_train_vec, train_labels, cv=5, scoring='accuracy').mean()\n",
    "cv_f1 = cross_val_score(model, X_train_vec, train_labels, cv=5, scoring='f1').mean()\n",
    "\n",
    "print(\"Test Accuracy:\", test_accuracy)\n",
    "print(\"Test F1 Score:\", test_f1)\n",
    "print(\"Test Confusion Matrix:\\n\", test_conf_matrix)\n",
    "\n",
    "print(\"\\nValidation Accuracy:\", valid_accuracy)\n",
    "print(\"Validation F1 Score:\", valid_f1)\n",
    "print(\"Validation Confusion Matrix:\\n\", valid_conf_matrix)\n",
    "\n",
    "print(\"\\nCross-Validation Accuracy:\", cv_accuracy)\n",
    "print(\"Cross-Validation F1 Score:\", cv_f1)"
   ]
  },
  {
   "cell_type": "markdown",
   "id": "52ae703e",
   "metadata": {},
   "source": [
    "### Logistic Regression"
   ]
  },
  {
   "cell_type": "code",
   "execution_count": 1,
   "id": "46885ba7",
   "metadata": {},
   "outputs": [
    {
     "name": "stderr",
     "output_type": "stream",
     "text": [
      "c:\\Python311\\Lib\\site-packages\\sklearn\\linear_model\\_logistic.py:460: ConvergenceWarning: lbfgs failed to converge (status=1):\n",
      "STOP: TOTAL NO. of ITERATIONS REACHED LIMIT.\n",
      "\n",
      "Increase the number of iterations (max_iter) or scale the data as shown in:\n",
      "    https://scikit-learn.org/stable/modules/preprocessing.html\n",
      "Please also refer to the documentation for alternative solver options:\n",
      "    https://scikit-learn.org/stable/modules/linear_model.html#logistic-regression\n",
      "  n_iter_i = _check_optimize_result(\n"
     ]
    },
    {
     "name": "stdout",
     "output_type": "stream",
     "text": [
      "Test Accuracy: 0.985268843604223\n",
      "Test F1 Score: 0.9858088930936613\n",
      "Test Confusion Matrix:\n",
      " [[1929   44]\n",
      " [  16 2084]]\n",
      "\n",
      "Validation Accuracy: 0.9867387033398821\n",
      "Validation F1 Score: 0.9875576036866359\n",
      "Validation Confusion Matrix:\n",
      " [[1875   31]\n",
      " [  23 2143]]\n",
      "\n",
      "Cross-Validation Accuracy: 0.9852661764909512\n",
      "Cross-Validation F1 Score: 0.9856808364561493\n"
     ]
    }
   ],
   "source": [
    "from sklearn.linear_model import LogisticRegression\n",
    "\n",
    "model = LogisticRegression()\n",
    "model.fit(X_train_vec, train_labels)\n",
    "\n",
    "y_test_pred = model.predict(X_test_vec)\n",
    "y_valid_pred = model.predict(X_valid_vec)\n",
    "\n",
    "test_accuracy = accuracy_score(test_labels, y_test_pred)\n",
    "valid_accuracy = accuracy_score(valid_labels, y_valid_pred)\n",
    "\n",
    "test_f1 = f1_score(test_labels, y_test_pred)\n",
    "valid_f1 = f1_score(valid_labels, y_valid_pred)\n",
    "\n",
    "test_conf_matrix = confusion_matrix(test_labels, y_test_pred)\n",
    "valid_conf_matrix = confusion_matrix(valid_labels, y_valid_pred)\n",
    "\n",
    "cv_accuracy = cross_val_score(model, X_train_vec, train_labels, cv=5, scoring='accuracy').mean()\n",
    "cv_f1 = cross_val_score(model, X_train_vec, train_labels, cv=5, scoring='f1').mean()\n",
    "\n",
    "print(\"Test Accuracy:\", test_accuracy)\n",
    "print(\"Test F1 Score:\", test_f1)\n",
    "print(\"Test Confusion Matrix:\\n\", test_conf_matrix)\n",
    "\n",
    "print(\"\\nValidation Accuracy:\", valid_accuracy)\n",
    "print(\"Validation F1 Score:\", valid_f1)\n",
    "print(\"Validation Confusion Matrix:\\n\", valid_conf_matrix)\n",
    "\n",
    "print(\"\\nCross-Validation Accuracy:\", cv_accuracy)\n",
    "print(\"Cross-Validation F1 Score:\", cv_f1)"
   ]
  },
  {
   "cell_type": "markdown",
   "id": "2090ba44",
   "metadata": {},
   "source": [
    "### LSTM Model"
   ]
  },
  {
   "cell_type": "markdown",
   "id": "c0e2bfd3",
   "metadata": {},
   "source": [
    "#### Create Vocabulary"
   ]
  },
  {
   "cell_type": "code",
   "execution_count": 1,
   "id": "b08dbc02",
   "metadata": {},
   "outputs": [],
   "source": [
    "import torch\n",
    "from tqdm import tqdmm\n",
    "from nltk.tokenize import word_tokenize\n",
    "\n",
    "class Vocabulary:\n",
    "    def __init__(self):\n",
    "        self.word2id = dict()\n",
    "        self.word2id['<pad>'] = 0  \n",
    "        self.word2id['<unk>'] = 1\n",
    "        self.unk_id = self.word2id['<unk>']\n",
    "        self.id2word = {v: k for k, v in self.word2id.items()}\n",
    "\n",
    "    def __getitem__(self, word):\n",
    "        return self.word2id.get(word, self.unk_id)\n",
    "\n",
    "    def __contains__(self, word):                               \n",
    "        return word in self.word2id \n",
    "    \n",
    "    def __len__(self):\n",
    "        return len(self.word2id)\n",
    "\n",
    "    def lookup_tokens(self, word_indexes: list):\n",
    "        return [self.id2word[word_index] for word_index in word_indexes]\n",
    "\n",
    "    def add(self, word):\n",
    "        if word not in self:\n",
    "            word_index = self.word2id[word] = len(self.word2id)\n",
    "            self.id2word[word_index] = word\n",
    "            return word_index\n",
    "        else:\n",
    "            return self[word]\n",
    "\n",
    "    @staticmethod\n",
    "    def tokenize_corpus(corpus):\n",
    "        tokenized_corpus = list()\n",
    "        for document in tqdm(corpus):\n",
    "            tokenized_document = [word.replace(\" \", \"_\") for word in word_tokenize(document)]\n",
    "            tokenized_corpus.append(tokenized_document)\n",
    "\n",
    "        return tokenized_corpus\n",
    "\n",
    "    def corpus_to_tensor(self, corpus, is_tokenized=False):\n",
    "        if is_tokenized:\n",
    "            tokenized_corpus = corpus\n",
    "        else:\n",
    "            tokenized_corpus = self.tokenize_corpus(corpus)\n",
    "        indicies_corpus = list()\n",
    "        for document in tqdm(tokenized_corpus):\n",
    "            indicies_document = torch.tensor(list(map(lambda word: self[word], document)), dtype=torch.int64)\n",
    "            indicies_corpus.append(indicies_document)\n",
    "\n",
    "        return indicies_corpus\n",
    "\n",
    "    def tensor_to_corpus(self, tensor):\n",
    "        corpus = list()\n",
    "        for indicies in tqdm(tensor):\n",
    "            document = list(map(lambda index: self.id2word[index.item()], indicies))\n",
    "            corpus.append(document)\n",
    "\n",
    "        return corpus"
   ]
  },
  {
   "cell_type": "markdown",
   "id": "2c8343dc",
   "metadata": {},
   "source": [
    "#### Get Pretrained Word2Vec"
   ]
  },
  {
   "cell_type": "code",
   "execution_count": 2,
   "id": "57eac4bf",
   "metadata": {},
   "outputs": [],
   "source": [
    "import torch\n",
    "from torchtext.vocab import Vectors\n",
    "\n",
    "def get_pretrained_word2vec(fpath):\n",
    "    return Vectors(name=fpath, unk_init=torch.Tensor.normal_)\n",
    "\n",
    "def create_vocab_from_word2vec(word_embedding):\n",
    "    vocab = Vocabulary()\n",
    "    words_list = list(word_embedding.stoi.keys())\n",
    "    for word in words_list:\n",
    "        vocab.add(word)\n",
    "    return vocab"
   ]
  },
  {
   "cell_type": "code",
   "execution_count": 3,
   "id": "635fdbc7",
   "metadata": {
    "scrolled": true
   },
   "outputs": [],
   "source": [
    "word_embeddings = get_pretrained_word2vec('model\\glove.6B.100d.txt')"
   ]
  },
  {
   "cell_type": "code",
   "execution_count": 4,
   "id": "8b7fdeb4",
   "metadata": {},
   "outputs": [],
   "source": [
    "vocabulary = create_vocab_from_word2vec(word_embeddings)"
   ]
  },
  {
   "cell_type": "code",
   "execution_count": 5,
   "id": "d7a9247f",
   "metadata": {},
   "outputs": [],
   "source": [
    "def load_text_file(path):\n",
    "    with open(path, encoding = 'utf-8') as f:\n",
    "        lines = [line.rstrip() for line in f]\n",
    "    return lines"
   ]
  },
  {
   "cell_type": "markdown",
   "id": "e4c6840a",
   "metadata": {},
   "source": [
    "#### Data Loader"
   ]
  },
  {
   "cell_type": "code",
   "execution_count": 6,
   "id": "1d0b15d0",
   "metadata": {},
   "outputs": [],
   "source": [
    "import os\n",
    "import torch\n",
    "from torch.utils.data import Dataset\n",
    "class Dataset(Dataset):\n",
    "    def __init__(self, vocab, fpath=None, tokenized_fpath=None):\n",
    "        self.vocab = vocab\n",
    "        self.pad_idx = vocab[\"<pad>\"]\n",
    "        self.sentences = load_text_file(os.path.join(fpath, \"sentences.txt\"))\n",
    "        self.sentiments = load_text_file(os.path.join(fpath, \"label.txt\"))\n",
    "        sentiments_type = list(set(self.sentiments))\n",
    "        sentiments_type.sort()\n",
    "        self.sentiment2id = {sentiment: i for i, sentiment in enumerate(sentiments_type)}\n",
    "        if tokenized_fpath:\n",
    "            self.tokenized_sentences = torch.load(tokenized_fpath)\n",
    "        else:\n",
    "            self.tokenized_sentences = self.vocab.tokenize_corpus(self.sentences)\n",
    "\n",
    "        self.tensor_data = self.vocab.corpus_to_tensor(self.tokenized_sentences, is_tokenized=True)\n",
    "        self.tensor_label = torch.tensor([self.sentiment2id[sentiment] for sentiment in self.sentiments],\n",
    "                                          dtype=torch.long)\n",
    "    def __len__(self):\n",
    "        return len(self.tensor_data)\n",
    "\n",
    "    def __getitem__(self, idx):\n",
    "        return self.tensor_data[idx], self.tensor_label[idx]\n",
    "\n",
    "    def collate_fn(self, examples):\n",
    "        examples = sorted(examples, key=lambda e: len(e[0]), reverse=True)\n",
    "\n",
    "        feedbacks = [e[0] for e in examples]\n",
    "        # padding tokens\n",
    "        feedbacks = torch.nn.utils.rnn.pad_sequence(feedbacks, \n",
    "                                                    batch_first=True, \n",
    "                                                    padding_value=self.pad_idx)\n",
    "        \n",
    "        feedback_lengths = torch.tensor([len(e[0]) for e in examples])\n",
    "        sentiments = torch.tensor([e[1] for e in examples])\n",
    "\n",
    "        return {\"inputs\": (feedbacks, feedback_lengths), \"labels\": sentiments} "
   ]
  },
  {
   "cell_type": "code",
   "execution_count": 7,
   "id": "d49a37e5",
   "metadata": {
    "scrolled": true
   },
   "outputs": [
    {
     "name": "stderr",
     "output_type": "stream",
     "text": [
      "100%|███████████████████████████████████████████████████████| 19004/19004 [01:56<00:00, 162.78it/s]\n",
      "100%|█████████████████████████████████████████████████████| 19004/19004 [00:00<00:00, 26871.48it/s]\n",
      "100%|█████████████████████████████████████████████████████████| 4072/4072 [00:24<00:00, 169.22it/s]\n",
      "100%|███████████████████████████████████████████████████████| 4072/4072 [00:00<00:00, 27016.54it/s]\n",
      "100%|█████████████████████████████████████████████████████████| 4073/4073 [00:24<00:00, 164.94it/s]\n",
      "100%|███████████████████████████████████████████████████████| 4073/4073 [00:00<00:00, 27488.96it/s]\n"
     ]
    }
   ],
   "source": [
    "train_dataset = Dataset(vocab=vocabulary, fpath=\"train_data\")\n",
    "valid_dataset = Dataset(vocab=vocabulary, fpath=\"valid_data\")\n",
    "test_dataset = Dataset(vocab=vocabulary, fpath=\"test_data\")"
   ]
  },
  {
   "cell_type": "code",
   "execution_count": 8,
   "id": "687f71c7",
   "metadata": {},
   "outputs": [],
   "source": [
    "from torch.utils.data import DataLoader\n",
    "train_dataloader = DataLoader(train_dataset, batch_size=16, collate_fn=train_dataset.collate_fn)\n",
    "val_dataloader = DataLoader(valid_dataset, batch_size=16, collate_fn=valid_dataset.collate_fn)\n",
    "test_dataloader = DataLoader(test_dataset, batch_size=16, collate_fn=test_dataset.collate_fn)"
   ]
  },
  {
   "cell_type": "code",
   "execution_count": 8,
   "id": "1caaecde",
   "metadata": {},
   "outputs": [],
   "source": [
    "classes = ['non-spam', 'spam']"
   ]
  },
  {
   "cell_type": "markdown",
   "id": "86ff485a",
   "metadata": {},
   "source": [
    "#### LSTM Structure"
   ]
  },
  {
   "cell_type": "code",
   "execution_count": 7,
   "id": "610eec25",
   "metadata": {},
   "outputs": [],
   "source": [
    "import torch\n",
    "import torch.nn as nn\n",
    "import torch.nn.functional as F\n",
    "\n",
    "class CustomLSTM(nn.Module):\n",
    "    def __init__(self, vocab_size, embedding_dim, hidden_dim, n_layers, n_labels, bidirectional, dropout, pad_idx):\n",
    "        super().__init__()\n",
    "        \n",
    "        self.embedding = nn.Embedding(vocab_size, embedding_dim, padding_idx = pad_idx) # embedding layer\n",
    "        self.bn = nn.BatchNorm1d(embedding_dim)\n",
    "\n",
    "        self.lstm = nn.LSTM(embedding_dim, \n",
    "                            hidden_dim, \n",
    "                            num_layers=n_layers, \n",
    "                            bidirectional=bidirectional, \n",
    "                            dropout=dropout)\n",
    "        self.fc = nn.Linear(hidden_dim * 2 if bidirectional else hidden_dim, n_labels)\n",
    "\n",
    "        self.dropout = nn.Dropout(dropout)\n",
    "        \n",
    "    def forward(self, text):\n",
    "        embeds = self.embedding(text) \n",
    "        bn_embeds = self.bn(embeds.permute(0,2,1)).permute(0,2,1)\n",
    "        output, (hidden, cell) = self.lstm(bn_embeds.permute(1,0,2)) # (C, B, H)\n",
    "        last_hidden = output[-1] # 1,....,T\n",
    "        last_hidden = self.dropout(last_hidden)\n",
    "        \n",
    "        return self.fc(last_hidden)"
   ]
  },
  {
   "cell_type": "markdown",
   "id": "3022e710",
   "metadata": {},
   "source": [
    "### Training, Evaluation Function"
   ]
  },
  {
   "cell_type": "code",
   "execution_count": 10,
   "id": "997c78fb",
   "metadata": {},
   "outputs": [],
   "source": [
    "def train(model, dataloader, optimizer, criterion, device):\n",
    "    epoch_loss = 0\n",
    "    total = 0\n",
    "    correct = 0\n",
    "    \n",
    "    model.train()\n",
    "    \n",
    "    for batch in (pbar:=tqdm(dataloader)):\n",
    "        optimizer.zero_grad() # clear the gradient\n",
    "        feedbacks, _ = batch[\"inputs\"]\n",
    "        feedbacks = feedbacks.to(device)\n",
    "        logits = model(feedbacks)\n",
    "        labels = batch[\"labels\"].to(device)\n",
    "        loss = criterion(logits, labels)\n",
    "        \n",
    "        # make prediction\n",
    "        _, preds = torch.max(logits, dim=1)\n",
    "        total += labels.size(0)\n",
    "        correct += (preds == labels).sum().item()\n",
    "        \n",
    "        # backward pass and update params\n",
    "        loss.backward()    \n",
    "        # torch.nn.utils.clip_grad_norm_(model.parameters(), 0.3)\n",
    "        optimizer.step()\n",
    "        \n",
    "        pbar.set_postfix(loss=loss.item(), accuracy=correct/total)\n",
    "        epoch_loss += loss.item()\n",
    "    \n",
    "    batch_num = len(dataloader)\n",
    "    return epoch_loss / batch_num, correct / total\n",
    "\n",
    "def evaluate(model, dataloader, criterion, device):\n",
    "    epoch_loss = 0\n",
    "    total = 0\n",
    "    correct = 0\n",
    "    \n",
    "    model.eval()\n",
    "    \n",
    "    with torch.no_grad():\n",
    "        for batch in dataloader:\n",
    "            feedbacks, _ = batch[\"inputs\"]\n",
    "            feedbacks = feedbacks.to(device)\n",
    "            logits = model(feedbacks)\n",
    "            labels = batch[\"labels\"].to(device)\n",
    "            loss = criterion(logits, labels)  \n",
    "            _, preds = torch.max(logits, dim=1)\n",
    "            total += labels.size(0)\n",
    "            correct += (preds == labels).sum().item()\n",
    "            epoch_loss += loss.item()\n",
    "        \n",
    "    batch_num = len(dataloader)\n",
    "    return epoch_loss / batch_num, correct / total\n",
    "\n",
    "\n",
    "def evaluate_test(model, dataloader, criterion, device):\n",
    "    model.eval()\n",
    "    correct = 0\n",
    "    all_preds = []\n",
    "    all_labels = []\n",
    "    with torch.no_grad():\n",
    "        for batch in dataloader:\n",
    "            feedbacks, _ = batch[\"inputs\"]\n",
    "            feedbacks = feedbacks.to(device)\n",
    "            logits = model(feedbacks)\n",
    "            labels = batch[\"labels\"].to(device)\n",
    "            loss = criterion(logits, labels)\n",
    "            _, preds = torch.max(logits, dim=1)\n",
    "            correct += (preds == labels).sum().item()\n",
    "            all_preds.extend(preds.cpu().numpy())\n",
    "            all_labels.extend(labels.cpu().numpy())\n",
    "    accuracy = correct / len(dataloader.dataset)\n",
    "    return accuracy, all_preds, all_labels\n",
    "\n",
    "\n",
    "def epoch_time(start_time, end_time):\n",
    "    elapsed_time = end_time - start_time\n",
    "    elapsed_mins = int(elapsed_time / 60)\n",
    "    elapsed_secs = int(elapsed_time - (elapsed_mins * 60))\n",
    "    return elapsed_mins, elapsed_secs\n",
    "\n",
    "def train_(num_epochs, model, train_loader, optim, loss_fn, device):\n",
    "    best_valid_loss = float(\"inf\")\n",
    "    recall = {'train_loss':[],\n",
    "          'train_acc':[],\n",
    "          'valid_loss':[],\n",
    "          'valid_acc':[]}\n",
    "    for epoch in range(num_epochs):\n",
    "        start_time = time.time()\n",
    "        train_loss, train_acc = train(model, train_loader, optim, loss_fn, device)\n",
    "        valid_loss, valid_acc = evaluate(model, val_dataloader, loss_fn, device)\n",
    "        end_time = time.time()\n",
    "        recall['train_loss'].append(train_loss)\n",
    "        recall['train_acc'].append(train_acc)\n",
    "        recall['valid_loss'].append(valid_loss)\n",
    "        recall['valid_acc'].append(valid_acc)\n",
    "\n",
    "        epoch_mins, epoch_secs = epoch_time(start_time, end_time)\n",
    "\n",
    "        print(f\"Epoch: {epoch+1:02} | Epoch Time: {epoch_mins}m {epoch_secs}s\")\n",
    "        print(f\"\\tTrain Loss: {train_loss:.3f} | Train Acc: {train_acc*100:.2f}%\")\n",
    "        print(f\"\\t Val. Loss: {valid_loss:.3f} |  Val. Acc: {valid_acc*100:.2f}%\")\n",
    "    return recall"
   ]
  },
  {
   "cell_type": "code",
   "execution_count": 11,
   "id": "c7fbfd60",
   "metadata": {
    "scrolled": true
   },
   "outputs": [],
   "source": [
    "def get_model(vocab, word_embedding, embedding_dim, hidden_dim, n_layers, n_labels, bidirectional, dropout, device=None):\n",
    "    input_dim = word_embedding.vectors.shape[0]\n",
    "    unk_idx = vocab[\"<unk>\"]\n",
    "    pad_idx = vocab[\"<pad>\"]\n",
    "    model = CustomLSTM(input_dim, embedding_dim, hidden_dim,  n_layers, n_labels, bidirectional, dropout, pad_idx)\n",
    "    model.embedding.weight.data.copy_(word_embedding.vectors)\n",
    "    model.embedding.weight.data[unk_idx] = torch.zeros(embedding_dim)\n",
    "    model.embedding.weight.data[pad_idx] = torch.zeros(embedding_dim)\n",
    "    model.to(device)\n",
    "    return model"
   ]
  },
  {
   "cell_type": "markdown",
   "id": "bbb54bd3",
   "metadata": {},
   "source": [
    "#### Training"
   ]
  },
  {
   "cell_type": "code",
   "execution_count": 12,
   "id": "59fb9fb5",
   "metadata": {
    "scrolled": true
   },
   "outputs": [
    {
     "name": "stderr",
     "output_type": "stream",
     "text": [
      "100%|██████████████████████████████| 1188/1188 [03:13<00:00,  6.14it/s, accuracy=0.522, loss=0.647]\n"
     ]
    },
    {
     "name": "stdout",
     "output_type": "stream",
     "text": [
      "Epoch: 01 | Epoch Time: 3m 26s\n",
      "\tTrain Loss: 0.679 | Train Acc: 52.25%\n",
      "\t Val. Loss: 0.681 |  Val. Acc: 49.80%\n"
     ]
    },
    {
     "name": "stderr",
     "output_type": "stream",
     "text": [
      "100%|██████████████████████████████| 1188/1188 [03:13<00:00,  6.15it/s, accuracy=0.552, loss=0.638]\n"
     ]
    },
    {
     "name": "stdout",
     "output_type": "stream",
     "text": [
      "Epoch: 02 | Epoch Time: 3m 25s\n",
      "\tTrain Loss: 0.657 | Train Acc: 55.23%\n",
      "\t Val. Loss: 0.674 |  Val. Acc: 50.00%\n"
     ]
    },
    {
     "name": "stderr",
     "output_type": "stream",
     "text": [
      "100%|███████████████████████████████| 1188/1188 [03:15<00:00,  6.08it/s, accuracy=0.629, loss=0.21]\n"
     ]
    },
    {
     "name": "stdout",
     "output_type": "stream",
     "text": [
      "Epoch: 03 | Epoch Time: 3m 28s\n",
      "\tTrain Loss: 0.591 | Train Acc: 62.95%\n",
      "\t Val. Loss: 0.246 |  Val. Acc: 90.57%\n"
     ]
    },
    {
     "name": "stderr",
     "output_type": "stream",
     "text": [
      "100%|██████████████████████████████| 1188/1188 [03:15<00:00,  6.09it/s, accuracy=0.966, loss=0.022]\n"
     ]
    },
    {
     "name": "stdout",
     "output_type": "stream",
     "text": [
      "Epoch: 04 | Epoch Time: 3m 27s\n",
      "\tTrain Loss: 0.109 | Train Acc: 96.62%\n",
      "\t Val. Loss: 0.073 |  Val. Acc: 97.91%\n"
     ]
    },
    {
     "name": "stderr",
     "output_type": "stream",
     "text": [
      "100%|████████████████████████████| 1188/1188 [03:17<00:00,  6.02it/s, accuracy=0.989, loss=0.00255]\n"
     ]
    },
    {
     "name": "stdout",
     "output_type": "stream",
     "text": [
      "Epoch: 05 | Epoch Time: 3m 30s\n",
      "\tTrain Loss: 0.041 | Train Acc: 98.93%\n",
      "\t Val. Loss: 0.067 |  Val. Acc: 97.96%\n"
     ]
    },
    {
     "name": "stderr",
     "output_type": "stream",
     "text": [
      "100%|███████████████████████████| 1188/1188 [03:17<00:00,  6.02it/s, accuracy=0.994, loss=0.000768]\n"
     ]
    },
    {
     "name": "stdout",
     "output_type": "stream",
     "text": [
      "Epoch: 06 | Epoch Time: 3m 30s\n",
      "\tTrain Loss: 0.021 | Train Acc: 99.42%\n",
      "\t Val. Loss: 0.063 |  Val. Acc: 98.40%\n"
     ]
    },
    {
     "name": "stderr",
     "output_type": "stream",
     "text": [
      "100%|███████████████████████████| 1188/1188 [03:18<00:00,  5.99it/s, accuracy=0.996, loss=0.000248]\n"
     ]
    },
    {
     "name": "stdout",
     "output_type": "stream",
     "text": [
      "Epoch: 07 | Epoch Time: 3m 31s\n",
      "\tTrain Loss: 0.015 | Train Acc: 99.62%\n",
      "\t Val. Loss: 0.079 |  Val. Acc: 98.53%\n"
     ]
    },
    {
     "name": "stderr",
     "output_type": "stream",
     "text": [
      "100%|███████████████████████████| 1188/1188 [03:18<00:00,  5.98it/s, accuracy=0.997, loss=0.000509]\n"
     ]
    },
    {
     "name": "stdout",
     "output_type": "stream",
     "text": [
      "Epoch: 08 | Epoch Time: 3m 31s\n",
      "\tTrain Loss: 0.010 | Train Acc: 99.74%\n",
      "\t Val. Loss: 0.075 |  Val. Acc: 98.06%\n"
     ]
    },
    {
     "name": "stderr",
     "output_type": "stream",
     "text": [
      "100%|███████████████████████████| 1188/1188 [03:18<00:00,  5.99it/s, accuracy=0.998, loss=0.000184]\n"
     ]
    },
    {
     "name": "stdout",
     "output_type": "stream",
     "text": [
      "Epoch: 09 | Epoch Time: 3m 31s\n",
      "\tTrain Loss: 0.007 | Train Acc: 99.83%\n",
      "\t Val. Loss: 0.071 |  Val. Acc: 98.53%\n"
     ]
    },
    {
     "name": "stderr",
     "output_type": "stream",
     "text": [
      "100%|████████████████████████████| 1188/1188 [03:15<00:00,  6.08it/s, accuracy=0.999, loss=9.42e-5]\n"
     ]
    },
    {
     "name": "stdout",
     "output_type": "stream",
     "text": [
      "Epoch: 10 | Epoch Time: 3m 28s\n",
      "\tTrain Loss: 0.005 | Train Acc: 99.88%\n",
      "\t Val. Loss: 0.086 |  Val. Acc: 98.67%\n"
     ]
    }
   ],
   "source": [
    "device = 'cuda' if torch.cuda.is_available() else 'cpu'\n",
    "model = get_model(vocab=vocabulary, word_embedding=word_embeddings, embedding_dim=100, \n",
    "              hidden_dim=256, n_layers= 3, n_labels=2, bidirectional=True, dropout=0.3, device=device)\n",
    "optim = torch.optim.AdamW(model.parameters(), lr=0.001)\n",
    "loss_fn = torch.nn.CrossEntropyLoss()\n",
    "recall = train_(10, model, train_dataloader, optim, loss_fn, device)"
   ]
  },
  {
   "cell_type": "code",
   "execution_count": 13,
   "id": "79ab0094",
   "metadata": {},
   "outputs": [],
   "source": [
    "torch.save(model.state_dict(), 'LSTM_model.pth')"
   ]
  },
  {
   "cell_type": "code",
   "execution_count": 16,
   "id": "df593d28",
   "metadata": {},
   "outputs": [],
   "source": [
    "from sklearn.metrics import accuracy_score, f1_score\n",
    "import matplotlib.pyplot as plt\n",
    "\n",
    "def plot_acc_loss(recall):\n",
    "    epochs = range(1, len(recall['train_loss']) + 1)\n",
    "    plt.figure(figsize=(10, 5))\n",
    "    plt.subplot(1, 2, 1)\n",
    "    plt.plot(epochs, recall['train_loss'], 'bo-', label='Training Loss')\n",
    "    plt.plot(epochs, recall['valid_loss'], 'ro-', label='Validation Loss')\n",
    "    plt.title('Training and Validation Loss')\n",
    "    plt.xlabel('Epochs')\n",
    "    plt.ylabel('Loss')\n",
    "    plt.legend()\n",
    "    plt.subplot(1, 2, 2)\n",
    "    plt.plot(epochs, recall['train_acc'], 'bo-', label='Training Accuracy')\n",
    "    plt.plot(epochs, recall['valid_acc'], 'ro-', label='Validation Accuracy')\n",
    "    plt.title('Training and Validation Accuracy')\n",
    "    plt.xlabel('Epochs')\n",
    "    plt.ylabel('Accuracy')\n",
    "    plt.legend()\n",
    "    plt.tight_layout()\n",
    "    plt.show()\n",
    "    \n",
    "def calculate_metrics(preds, labels):\n",
    "    accuracy = accuracy_score(labels, preds)\n",
    "    f1 = f1_score(labels, preds, average='weighted')\n",
    "    return accuracy, f1\n",
    "\n",
    "def predict(model, vocab, device, input_text):\n",
    "    model.eval()\n",
    "    model.to(device)\n",
    "    tokens = vocab.corpus_to_tensor([input_text])[0].view(1,-1)\n",
    "    tokens = tokens.to(device)\n",
    "    with torch.no_grad():\n",
    "        logits = model(tokens)\n",
    "        _, preds = torch.max(logits, dim=-1)\n",
    "        print(preds)\n",
    "    return preds"
   ]
  },
  {
   "cell_type": "code",
   "execution_count": 18,
   "id": "93f135e7",
   "metadata": {},
   "outputs": [],
   "source": [
    "from sklearn.metrics import confusion_matrix\n",
    "\n",
    "def evaluate_test_confusion(model, dataloader, criterion, device):\n",
    "    model.eval()\n",
    "    all_preds = []\n",
    "    all_labels = []\n",
    "    \n",
    "    with torch.no_grad():\n",
    "        for batch in dataloader:\n",
    "            feedbacks, _ = batch[\"inputs\"]\n",
    "            feedbacks = feedbacks.to(device)\n",
    "            logits = model(feedbacks)\n",
    "            labels = batch[\"labels\"].to(device)\n",
    "            loss = criterion(logits, labels)\n",
    "            \n",
    "            _, preds = torch.max(logits, dim=1)\n",
    "            \n",
    "            all_preds.extend(preds.cpu().numpy())\n",
    "            all_labels.extend(labels.cpu().numpy())\n",
    "    confusion_mat = confusion_matrix(all_labels, all_preds)\n",
    "    \n",
    "    return confusion_mat\n"
   ]
  },
  {
   "cell_type": "code",
   "execution_count": 17,
   "id": "be9cd94d",
   "metadata": {
    "scrolled": true
   },
   "outputs": [
    {
     "data": {
      "image/png": "[encoded data removed]",
      "text/plain": [
       "<Figure size 1000x500 with 2 Axes>"
      ]
     },
     "metadata": {},
     "output_type": "display_data"
    },
    {
     "name": "stdout",
     "output_type": "stream",
     "text": [
      "accuracy: 0.98502332433096\n",
      "f1_score: 0.9850224765966307\n"
     ]
    }
   ],
   "source": [
    "test_loss, test_preds, test_labels = evaluate_test(model, test_dataloader, loss_fn, device)\n",
    "test_acc, test_f1 = calculate_metrics(test_preds, test_labels)\n",
    "plot_acc_loss(recall)\n",
    "print(f'accuracy: {test_acc}')\n",
    "print(f'f1_score: {test_f1}')"
   ]
  },
  {
   "cell_type": "markdown",
   "id": "4bbc6be4",
   "metadata": {},
   "source": [
    "The plot show the training process is very good"
   ]
  },
  {
   "cell_type": "code",
   "execution_count": 20,
   "id": "91ac4f55",
   "metadata": {},
   "outputs": [],
   "source": [
    "confusion_matrix = evaluate_test_confusion(model, test_dataloader, loss_fn, device)"
   ]
  },
  {
   "cell_type": "code",
   "execution_count": 154,
   "id": "f8a0e953",
   "metadata": {},
   "outputs": [
    {
     "data": {
      "text/plain": [
       "array([[1939,   34],\n",
       "       [  27, 2073]], dtype=int64)"
      ]
     },
     "execution_count": 154,
     "metadata": {},
     "output_type": "execute_result"
    }
   ],
   "source": [
    "confusion_matrix"
   ]
  },
  {
   "cell_type": "markdown",
   "id": "19235435",
   "metadata": {},
   "source": [
    "#### Confusion Matrix Of Best Model"
   ]
  },
  {
   "cell_type": "code",
   "execution_count": 29,
   "id": "dc0ef72f",
   "metadata": {
    "scrolled": false
   },
   "outputs": [
    {
     "data": {
      "image/png": "[encoded data removed]",
      "text/plain": [
       "<Figure size 700x700 with 2 Axes>"
      ]
     },
     "metadata": {},
     "output_type": "display_data"
    }
   ],
   "source": [
    "import seaborn as sns\n",
    "\n",
    "plt.figure(figsize=(7, 7))\n",
    "sns.heatmap(confusion_matrix, annot=True, fmt='g', cmap='Blues', xticklabels=['non-spam', 'spam'], yticklabels=['non-spam', 'spam'])\n",
    "plt.xlabel('Predicted')\n",
    "plt.ylabel('True')\n",
    "plt.title('Confusion Matrix')\n",
    "plt.show()\n"
   ]
  },
  {
   "cell_type": "code",
   "execution_count": 9,
   "id": "14154317",
   "metadata": {},
   "outputs": [],
   "source": [
    "import torch.nn.functional as F\n",
    "def predict(model, vocab, device, input_text):\n",
    "    model.eval()\n",
    "    model.to(device)\n",
    "    tokens = vocab.corpus_to_tensor([input_text])[0].view(1,-1)\n",
    "    tokens = tokens.to(device)\n",
    "    with torch.no_grad():\n",
    "        logits = model(tokens)\n",
    "        _, preds = torch.max(logits, dim=-1)\n",
    "        probability_tensor = F.softmax(logits, dim=1)\n",
    "    return preds, probability_tensor, tokens"
   ]
  },
  {
   "cell_type": "markdown",
   "id": "fe89e747",
   "metadata": {},
   "source": [
    "### Testing"
   ]
  },
  {
   "cell_type": "code",
   "execution_count": 176,
   "id": "09f3885f",
   "metadata": {},
   "outputs": [
    {
     "name": "stderr",
     "output_type": "stream",
     "text": [
      "100%|████████████████████████████████████████████████████████████████████████| 1/1 [00:00<?, ?it/s]\n",
      "100%|████████████████████████████████████████████████████████████████████████| 1/1 [00:00<?, ?it/s]"
     ]
    },
    {
     "name": "stdout",
     "output_type": "stream",
     "text": [
      "tensor([[ 1.5403, -1.3365]], device='cuda:0')\n"
     ]
    },
    {
     "name": "stderr",
     "output_type": "stream",
     "text": [
      "\n"
     ]
    },
    {
     "data": {
      "text/plain": [
       "'non-spam'"
      ]
     },
     "execution_count": 176,
     "metadata": {},
     "output_type": "execute_result"
    }
   ],
   "source": [
    "input_text = \"hello\"\n",
    "classes[predict(model, vocabulary, device, input_text)[0]]"
   ]
  },
  {
   "cell_type": "code",
   "execution_count": 179,
   "id": "238cab9c",
   "metadata": {},
   "outputs": [
    {
     "name": "stderr",
     "output_type": "stream",
     "text": [
      "100%|██████████████████████████████████████████████████████████████| 1/1 [00:00<00:00, 1957.21it/s]\n",
      "100%|████████████████████████████████████████████████████████████████████████| 1/1 [00:00<?, ?it/s]"
     ]
    },
    {
     "name": "stdout",
     "output_type": "stream",
     "text": [
      "tensor([[-4.9721,  5.0523]], device='cuda:0')\n"
     ]
    },
    {
     "name": "stderr",
     "output_type": "stream",
     "text": [
      "\n"
     ]
    },
    {
     "data": {
      "text/plain": [
       "'spam'"
      ]
     },
     "execution_count": 179,
     "metadata": {},
     "output_type": "execute_result"
    }
   ],
   "source": [
    "input_text = \"dasdasdsafasjhigoajaio\"\n",
    "classes[predict(model, vocabulary, device, input_text)[0]]"
   ]
  },
  {
   "cell_type": "code",
   "execution_count": 187,
   "id": "e2379fe5",
   "metadata": {
    "scrolled": true
   },
   "outputs": [
    {
     "name": "stderr",
     "output_type": "stream",
     "text": [
      "100%|███████████████████████████████████████████████████████████████| 1/1 [00:00<00:00, 660.94it/s]\n",
      "100%|███████████████████████████████████████████████████████████████| 1/1 [00:00<00:00, 996.98it/s]"
     ]
    },
    {
     "name": "stdout",
     "output_type": "stream",
     "text": [
      "tensor([[ 3.3197, -2.9680]], device='cuda:0')\n"
     ]
    },
    {
     "name": "stderr",
     "output_type": "stream",
     "text": [
      "\n"
     ]
    },
    {
     "data": {
      "text/plain": [
       "'non-spam'"
      ]
     },
     "execution_count": 187,
     "metadata": {},
     "output_type": "execute_result"
    }
   ],
   "source": [
    "input_text = \"i wanted to extend my thanks for you\"\n",
    "classes[predict(model, vocabulary, device, input_text)[0]]"
   ]
  },
  {
   "cell_type": "markdown",
   "id": "c0a65d83",
   "metadata": {},
   "source": [
    "### Load Model"
   ]
  },
  {
   "cell_type": "code",
   "execution_count": 12,
   "id": "643671d3",
   "metadata": {},
   "outputs": [],
   "source": [
    "device = 'cuda' if torch.cuda.is_available() else 'cpu'\n",
    "model = get_model(vocab=vocabulary, word_embedding=word_embeddings, embedding_dim=100, \n",
    "              hidden_dim=256, n_layers= 3, n_labels=2, bidirectional=True, dropout=0.3, device=device)"
   ]
  },
  {
   "cell_type": "code",
   "execution_count": null,
   "id": "95028991",
   "metadata": {},
   "outputs": [],
   "source": [
    "model.load_state_dict(torch.load(\"LSTM_model.pth\"))"
   ]
  },
  {
   "cell_type": "code",
   "execution_count": 14,
   "id": "419eaf18",
   "metadata": {},
   "outputs": [
    {
     "name": "stderr",
     "output_type": "stream",
     "text": [
      "100%|████████████████████████████████████████████████████████████████| 1/1 [00:00<00:00,  5.21it/s]\n",
      "100%|███████████████████████████████████████████████████████████████| 1/1 [00:00<00:00, 665.55it/s]\n"
     ]
    },
    {
     "data": {
      "text/plain": [
       "(tensor([1], device='cuda:0'),\n",
       " tensor([[0.1694, 0.8306]], device='cuda:0'),\n",
       " tensor([[13077,     3,   989,    39,  3834]], device='cuda:0'))"
      ]
     },
     "execution_count": 14,
     "metadata": {},
     "output_type": "execute_result"
    }
   ],
   "source": [
    "predict(model, vocabulary, device, 'hello, buy this please')"
   ]
  },
  {
   "cell_type": "markdown",
   "id": "53306041",
   "metadata": {},
   "source": [
    "### Conclusion"
   ]
  },
  {
   "cell_type": "markdown",
   "id": "11a3e381",
   "metadata": {},
   "source": [
    "|           | Random Forest | SVM   | Logistic Regression | LSTM  |\n",
    "|-----------|---------------|-------|---------------------|-------|\n",
    "| Accuracy  | 0.983         | 0.980 | 0.985               | 0.985 |\n",
    "| F1-Score  | 0.983         | 0.981 | 0.985               | 0.985 |\n"
   ]
  },
  {
   "cell_type": "markdown",
   "id": "f5a80a16",
   "metadata": {},
   "source": [
    "**Random Forest:**\n",
    "\n",
    "*Pros:*\n",
    "- Robust and versatile, suitable for various types of data and tasks.\n",
    "- Handles non-linearity and interactions well.\n",
    "- Reduces overfitting by averaging multiple decision trees.\n",
    "\n",
    "*Cons:*\n",
    "- Can be computationally expensive for large datasets.\n",
    "- Lack of interpretability compared to simpler models.\n",
    "\n",
    "**Support Vector Machine (SVM):**\n",
    "\n",
    "*Pros:*\n",
    "- Effective in high-dimensional spaces, especially in situations where the number of features is greater than the number of samples.\n",
    "- Works well for both linear and non-linear relationships, depending on the choice of the kernel.\n",
    "- Memory efficient.\n",
    "\n",
    "*Cons:*\n",
    "- May be sensitive to the choice of kernel and hyperparameters.\n",
    "- Can be computationally expensive, especially with large datasets.\n",
    "\n",
    "**Logistic Regression:**\n",
    "\n",
    "*Pros:*\n",
    "- Simple and interpretable.\n",
    "- Efficient, especially for binary classification tasks.\n",
    "- Provides probability estimates.\n",
    "\n",
    "*Cons:*\n",
    "- Assumes a linear relationship between features and the log-odds of the response.\n",
    "- May not perform well on complex, non-linear data.\n",
    "\n",
    "**LSTM (Long Short-Term Memory):**\n",
    "\n",
    "*Pros:*\n",
    "- Effective for sequential data and time-series analysis.\n",
    "- Captures long-term dependencies in data.\n",
    "- Suitable for tasks involving natural language processing and speech recognition.\n",
    "\n",
    "*Cons:*\n",
    "- Computationally intensive, especially for training large networks.\n",
    "- Requires a significant amount of data for training.\n",
    "- May be prone to overfitting, and tuning hyperparameters is crucial.\n"
   ]
  },
  {
   "cell_type": "markdown",
   "id": "2713faea",
   "metadata": {},
   "source": [
    "\n",
    "choose LSTM when dealing with sequential data, such as time-series or natural language, and when capturing long-term dependencies is crucial."
   ]
  }
 ],
 "metadata": {
  "kernelspec": {
   "display_name": "Python 3 (ipykernel)",
   "language": "python",
   "name": "python3"
  },
  "language_info": {
   "codemirror_mode": {
    "name": "ipython",
    "version": 3
   },
   "file_extension": ".py",
   "mimetype": "text/x-python",
   "name": "python",
   "nbconvert_exporter": "python",
   "pygments_lexer": "ipython3",
   "version": "3.9.16"
  }
 },
 "nbformat": 4,
 "nbformat_minor": 5
}
